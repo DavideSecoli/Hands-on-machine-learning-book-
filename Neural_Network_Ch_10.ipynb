{
  "nbformat": 4,
  "nbformat_minor": 0,
  "metadata": {
    "colab": {
      "name": "Neural Network Ch. 10.ipynb",
      "provenance": [],
      "authorship_tag": "ABX9TyMC6QUE2ydUyYne/Urvw5p8"
    },
    "kernelspec": {
      "name": "python3",
      "display_name": "Python 3"
    }
  },
  "cells": [
    {
      "cell_type": "code",
      "metadata": {
        "id": "3KTLidd4Dd8y",
        "colab_type": "code",
        "colab": {}
      },
      "source": [
        "import pandas as pd\n",
        "import matplotlib.pyplot as plt\n",
        "import numpy as np\n",
        "import tensorflow as tf\n",
        "from tensorflow import keras"
      ],
      "execution_count": 27,
      "outputs": []
    },
    {
      "cell_type": "code",
      "metadata": {
        "id": "eiDeLL9XDgoa",
        "colab_type": "code",
        "colab": {
          "base_uri": "https://localhost:8080/",
          "height": 35
        },
        "outputId": "f910ece7-526e-43b0-b4f9-d47cfb9c18ac"
      },
      "source": [
        "tf.__version__"
      ],
      "execution_count": 2,
      "outputs": [
        {
          "output_type": "execute_result",
          "data": {
            "application/vnd.google.colaboratory.intrinsic": {
              "type": "string"
            },
            "text/plain": [
              "'2.2.0'"
            ]
          },
          "metadata": {
            "tags": []
          },
          "execution_count": 2
        }
      ]
    },
    {
      "cell_type": "code",
      "metadata": {
        "id": "NlTKDCy-DoWR",
        "colab_type": "code",
        "colab": {
          "base_uri": "https://localhost:8080/",
          "height": 35
        },
        "outputId": "d36a6cbb-a70b-46dd-862c-793954e2615a"
      },
      "source": [
        "keras.__version__"
      ],
      "execution_count": 3,
      "outputs": [
        {
          "output_type": "execute_result",
          "data": {
            "application/vnd.google.colaboratory.intrinsic": {
              "type": "string"
            },
            "text/plain": [
              "'2.3.0-tf'"
            ]
          },
          "metadata": {
            "tags": []
          },
          "execution_count": 3
        }
      ]
    },
    {
      "cell_type": "code",
      "metadata": {
        "id": "m-GJp_inDrs-",
        "colab_type": "code",
        "colab": {
          "base_uri": "https://localhost:8080/",
          "height": 153
        },
        "outputId": "f354b7e5-a3b1-445f-81ec-9edef931ccaf"
      },
      "source": [
        "# import mnist dataset\n",
        "fashion_mnist = keras.datasets.fashion_mnist\n",
        "(X_train_full, y_train_full), (X_test, y_test) = fashion_mnist.load_data()"
      ],
      "execution_count": 4,
      "outputs": [
        {
          "output_type": "stream",
          "text": [
            "Downloading data from https://storage.googleapis.com/tensorflow/tf-keras-datasets/train-labels-idx1-ubyte.gz\n",
            "32768/29515 [=================================] - 0s 0us/step\n",
            "Downloading data from https://storage.googleapis.com/tensorflow/tf-keras-datasets/train-images-idx3-ubyte.gz\n",
            "26427392/26421880 [==============================] - 0s 0us/step\n",
            "Downloading data from https://storage.googleapis.com/tensorflow/tf-keras-datasets/t10k-labels-idx1-ubyte.gz\n",
            "8192/5148 [===============================================] - 0s 0us/step\n",
            "Downloading data from https://storage.googleapis.com/tensorflow/tf-keras-datasets/t10k-images-idx3-ubyte.gz\n",
            "4423680/4422102 [==============================] - 0s 0us/step\n"
          ],
          "name": "stdout"
        }
      ]
    },
    {
      "cell_type": "code",
      "metadata": {
        "id": "KHAdISBDbVwg",
        "colab_type": "code",
        "colab": {
          "base_uri": "https://localhost:8080/",
          "height": 34
        },
        "outputId": "e15c6097-d29a-40ad-c4da-b90ccea86930"
      },
      "source": [
        "X_train_full.shape"
      ],
      "execution_count": 5,
      "outputs": [
        {
          "output_type": "execute_result",
          "data": {
            "text/plain": [
              "(60000, 28, 28)"
            ]
          },
          "metadata": {
            "tags": []
          },
          "execution_count": 5
        }
      ]
    },
    {
      "cell_type": "code",
      "metadata": {
        "id": "CEkiHH-Bc2fa",
        "colab_type": "code",
        "colab": {
          "base_uri": "https://localhost:8080/",
          "height": 34
        },
        "outputId": "5970f051-7de3-4201-d211-624183bb6e9d"
      },
      "source": [
        "X_train_full.dtype"
      ],
      "execution_count": 6,
      "outputs": [
        {
          "output_type": "execute_result",
          "data": {
            "text/plain": [
              "dtype('uint8')"
            ]
          },
          "metadata": {
            "tags": []
          },
          "execution_count": 6
        }
      ]
    },
    {
      "cell_type": "code",
      "metadata": {
        "id": "2LZMeCMCc4WJ",
        "colab_type": "code",
        "colab": {}
      },
      "source": [
        "# scale the pixel intensities down to the 0–1 range\n",
        "X_valid, X_train = X_train_full[:5000] / 255.0, X_train_full[5000:] / 255.0 \n",
        "y_valid, y_train = y_train_full[:5000], y_train_full[5000:]"
      ],
      "execution_count": 7,
      "outputs": []
    },
    {
      "cell_type": "code",
      "metadata": {
        "id": "n1yuV4dBeJxa",
        "colab_type": "code",
        "colab": {}
      },
      "source": [
        "# list of class names \n",
        "class_names = [\"T-shirt/top\", \"Trouser\", \"Pullover\", \"Dress\", \"Coat\", \"Sandal\", \"Shirt\", \"Sneaker\", \"Bag\", \"Ankle boot\"]"
      ],
      "execution_count": 8,
      "outputs": []
    },
    {
      "cell_type": "code",
      "metadata": {
        "id": "8h1Hb1ESeLu8",
        "colab_type": "code",
        "colab": {
          "base_uri": "https://localhost:8080/",
          "height": 35
        },
        "outputId": "641aa817-b9c6-4f35-a2cd-bb4f0d5f142d"
      },
      "source": [
        "class_names[y_train[0]]"
      ],
      "execution_count": 9,
      "outputs": [
        {
          "output_type": "execute_result",
          "data": {
            "application/vnd.google.colaboratory.intrinsic": {
              "type": "string"
            },
            "text/plain": [
              "'Coat'"
            ]
          },
          "metadata": {
            "tags": []
          },
          "execution_count": 9
        }
      ]
    },
    {
      "cell_type": "code",
      "metadata": {
        "id": "UL3YieY7eWIW",
        "colab_type": "code",
        "colab": {}
      },
      "source": [
        "# create NN model \n",
        "model = keras.models.Sequential([ keras.layers.Flatten(input_shape=[28, 28]), \n",
        "                                 keras.layers.Dense(300, activation=\"relu\"), \n",
        "                                 keras.layers.Dense(100, activation=\"relu\"), \n",
        "                                 keras.layers.Dense(10, activation=\"softmax\")])"
      ],
      "execution_count": 10,
      "outputs": []
    },
    {
      "cell_type": "code",
      "metadata": {
        "id": "REhZoHplf2WU",
        "colab_type": "code",
        "colab": {
          "base_uri": "https://localhost:8080/",
          "height": 289
        },
        "outputId": "c8d91eac-29e8-4fca-ddd1-26fd84df9b19"
      },
      "source": [
        "model.summary()"
      ],
      "execution_count": 11,
      "outputs": [
        {
          "output_type": "stream",
          "text": [
            "Model: \"sequential\"\n",
            "_________________________________________________________________\n",
            "Layer (type)                 Output Shape              Param #   \n",
            "=================================================================\n",
            "flatten (Flatten)            (None, 784)               0         \n",
            "_________________________________________________________________\n",
            "dense (Dense)                (None, 300)               235500    \n",
            "_________________________________________________________________\n",
            "dense_1 (Dense)              (None, 100)               30100     \n",
            "_________________________________________________________________\n",
            "dense_2 (Dense)              (None, 10)                1010      \n",
            "=================================================================\n",
            "Total params: 266,610\n",
            "Trainable params: 266,610\n",
            "Non-trainable params: 0\n",
            "_________________________________________________________________\n"
          ],
          "name": "stdout"
        }
      ]
    },
    {
      "cell_type": "code",
      "metadata": {
        "id": "XqAP2mx3hNz2",
        "colab_type": "code",
        "colab": {
          "base_uri": "https://localhost:8080/",
          "height": 238
        },
        "outputId": "c627e23e-a3d3-4374-95cc-7eea38807589"
      },
      "source": [
        "# access layer params \n",
        "hidden1 = model.layers[1]\n",
        "weights, biases = hidden1.get_weights()\n",
        "weights"
      ],
      "execution_count": 15,
      "outputs": [
        {
          "output_type": "execute_result",
          "data": {
            "text/plain": [
              "array([[ 0.03475694,  0.05984093, -0.01572903, ...,  0.02326059,\n",
              "         0.03548027,  0.05053975],\n",
              "       [ 0.06371142, -0.04221442, -0.03557656, ...,  0.02168167,\n",
              "        -0.04384533, -0.06878237],\n",
              "       [-0.03555876,  0.05348988,  0.04750059, ..., -0.06675721,\n",
              "        -0.01222615, -0.03795541],\n",
              "       ...,\n",
              "       [ 0.07152736,  0.02175463,  0.03150484, ..., -0.05163743,\n",
              "        -0.05070277, -0.00709917],\n",
              "       [ 0.0030085 ,  0.04634476, -0.03246346, ..., -0.04977061,\n",
              "         0.04853047, -0.00991305],\n",
              "       [-0.05861399, -0.06694447, -0.01807927, ...,  0.01926249,\n",
              "        -0.06849589,  0.04577186]], dtype=float32)"
            ]
          },
          "metadata": {
            "tags": []
          },
          "execution_count": 15
        }
      ]
    },
    {
      "cell_type": "code",
      "metadata": {
        "id": "RRhpM4n2hhDQ",
        "colab_type": "code",
        "colab": {
          "base_uri": "https://localhost:8080/",
          "height": 34
        },
        "outputId": "0b2f3273-575c-42c7-d4ee-46e47d5333ce"
      },
      "source": [
        "weights.shape"
      ],
      "execution_count": 16,
      "outputs": [
        {
          "output_type": "execute_result",
          "data": {
            "text/plain": [
              "(784, 300)"
            ]
          },
          "metadata": {
            "tags": []
          },
          "execution_count": 16
        }
      ]
    },
    {
      "cell_type": "code",
      "metadata": {
        "id": "mEp5lTg0hpFf",
        "colab_type": "code",
        "colab": {
          "base_uri": "https://localhost:8080/",
          "height": 34
        },
        "outputId": "fa2fa0aa-11f6-46db-cfa3-cdd36e91bf38"
      },
      "source": [
        "biases.shape"
      ],
      "execution_count": 17,
      "outputs": [
        {
          "output_type": "execute_result",
          "data": {
            "text/plain": [
              "(300,)"
            ]
          },
          "metadata": {
            "tags": []
          },
          "execution_count": 17
        }
      ]
    },
    {
      "cell_type": "code",
      "metadata": {
        "id": "AltD5h1LiAT2",
        "colab_type": "code",
        "colab": {}
      },
      "source": [
        "# compile the model \n",
        "model.compile(loss=\"sparse_categorical_crossentropy\", optimizer=\"sgd\",\n",
        "                  metrics=[\"accuracy\"])\n",
        "\n",
        "# \"sparse_categorical_cross entropy\" loss because we have sparse labels and exclusive classes\n",
        "# \"sdg\" is stochastic gradient decent. Learning rate defaults to 0.01"
      ],
      "execution_count": 19,
      "outputs": []
    },
    {
      "cell_type": "code",
      "metadata": {
        "id": "EVFvrW9PjoEI",
        "colab_type": "code",
        "colab": {
          "base_uri": "https://localhost:8080/",
          "height": 1000
        },
        "outputId": "f5c75454-c87d-46ff-bffb-b8619c5f4072"
      },
      "source": [
        "# train the model \n",
        "history = model.fit(X_train, y_train, epochs=30, validation_data=(X_valid, y_valid))"
      ],
      "execution_count": 20,
      "outputs": [
        {
          "output_type": "stream",
          "text": [
            "Epoch 1/30\n",
            "1719/1719 [==============================] - 5s 3ms/step - loss: 0.6997 - accuracy: 0.7727 - val_loss: 0.5041 - val_accuracy: 0.8290\n",
            "Epoch 2/30\n",
            "1719/1719 [==============================] - 5s 3ms/step - loss: 0.4824 - accuracy: 0.8314 - val_loss: 0.4304 - val_accuracy: 0.8540\n",
            "Epoch 3/30\n",
            "1719/1719 [==============================] - 5s 3ms/step - loss: 0.4389 - accuracy: 0.8471 - val_loss: 0.4098 - val_accuracy: 0.8620\n",
            "Epoch 4/30\n",
            "1719/1719 [==============================] - 5s 3ms/step - loss: 0.4118 - accuracy: 0.8547 - val_loss: 0.3961 - val_accuracy: 0.8662\n",
            "Epoch 5/30\n",
            "1719/1719 [==============================] - 5s 3ms/step - loss: 0.3917 - accuracy: 0.8623 - val_loss: 0.3871 - val_accuracy: 0.8648\n",
            "Epoch 6/30\n",
            "1719/1719 [==============================] - 5s 3ms/step - loss: 0.3758 - accuracy: 0.8674 - val_loss: 0.3741 - val_accuracy: 0.8722\n",
            "Epoch 7/30\n",
            "1719/1719 [==============================] - 5s 3ms/step - loss: 0.3613 - accuracy: 0.8715 - val_loss: 0.3583 - val_accuracy: 0.8746\n",
            "Epoch 8/30\n",
            "1719/1719 [==============================] - 5s 3ms/step - loss: 0.3495 - accuracy: 0.8764 - val_loss: 0.3597 - val_accuracy: 0.8746\n",
            "Epoch 9/30\n",
            "1719/1719 [==============================] - 5s 3ms/step - loss: 0.3396 - accuracy: 0.8799 - val_loss: 0.3418 - val_accuracy: 0.8810\n",
            "Epoch 10/30\n",
            "1719/1719 [==============================] - 5s 3ms/step - loss: 0.3296 - accuracy: 0.8827 - val_loss: 0.3530 - val_accuracy: 0.8722\n",
            "Epoch 11/30\n",
            "1719/1719 [==============================] - 5s 3ms/step - loss: 0.3208 - accuracy: 0.8851 - val_loss: 0.3411 - val_accuracy: 0.8782\n",
            "Epoch 12/30\n",
            "1719/1719 [==============================] - 5s 3ms/step - loss: 0.3133 - accuracy: 0.8882 - val_loss: 0.3257 - val_accuracy: 0.8846\n",
            "Epoch 13/30\n",
            "1719/1719 [==============================] - 5s 3ms/step - loss: 0.3061 - accuracy: 0.8902 - val_loss: 0.3274 - val_accuracy: 0.8832\n",
            "Epoch 14/30\n",
            "1719/1719 [==============================] - 5s 3ms/step - loss: 0.2996 - accuracy: 0.8920 - val_loss: 0.3333 - val_accuracy: 0.8838\n",
            "Epoch 15/30\n",
            "1719/1719 [==============================] - 5s 3ms/step - loss: 0.2926 - accuracy: 0.8954 - val_loss: 0.3171 - val_accuracy: 0.8876\n",
            "Epoch 16/30\n",
            "1719/1719 [==============================] - 5s 3ms/step - loss: 0.2862 - accuracy: 0.8973 - val_loss: 0.3202 - val_accuracy: 0.8848\n",
            "Epoch 17/30\n",
            "1719/1719 [==============================] - 5s 3ms/step - loss: 0.2798 - accuracy: 0.8994 - val_loss: 0.3106 - val_accuracy: 0.8880\n",
            "Epoch 18/30\n",
            "1719/1719 [==============================] - 5s 3ms/step - loss: 0.2757 - accuracy: 0.8998 - val_loss: 0.3220 - val_accuracy: 0.8864\n",
            "Epoch 19/30\n",
            "1719/1719 [==============================] - 5s 3ms/step - loss: 0.2702 - accuracy: 0.9031 - val_loss: 0.3227 - val_accuracy: 0.8842\n",
            "Epoch 20/30\n",
            "1719/1719 [==============================] - 5s 3ms/step - loss: 0.2659 - accuracy: 0.9045 - val_loss: 0.3217 - val_accuracy: 0.8840\n",
            "Epoch 21/30\n",
            "1719/1719 [==============================] - 5s 3ms/step - loss: 0.2600 - accuracy: 0.9068 - val_loss: 0.3070 - val_accuracy: 0.8916\n",
            "Epoch 22/30\n",
            "1719/1719 [==============================] - 5s 3ms/step - loss: 0.2569 - accuracy: 0.9075 - val_loss: 0.3014 - val_accuracy: 0.8918\n",
            "Epoch 23/30\n",
            "1719/1719 [==============================] - 5s 3ms/step - loss: 0.2511 - accuracy: 0.9106 - val_loss: 0.3044 - val_accuracy: 0.8920\n",
            "Epoch 24/30\n",
            "1719/1719 [==============================] - 5s 3ms/step - loss: 0.2479 - accuracy: 0.9115 - val_loss: 0.3106 - val_accuracy: 0.8928\n",
            "Epoch 25/30\n",
            "1719/1719 [==============================] - 5s 3ms/step - loss: 0.2435 - accuracy: 0.9121 - val_loss: 0.3091 - val_accuracy: 0.8902\n",
            "Epoch 26/30\n",
            "1719/1719 [==============================] - 5s 3ms/step - loss: 0.2381 - accuracy: 0.9144 - val_loss: 0.2895 - val_accuracy: 0.8964\n",
            "Epoch 27/30\n",
            "1719/1719 [==============================] - 5s 3ms/step - loss: 0.2352 - accuracy: 0.9157 - val_loss: 0.2942 - val_accuracy: 0.8940\n",
            "Epoch 28/30\n",
            "1719/1719 [==============================] - 5s 3ms/step - loss: 0.2304 - accuracy: 0.9166 - val_loss: 0.2884 - val_accuracy: 0.8974\n",
            "Epoch 29/30\n",
            "1719/1719 [==============================] - 5s 3ms/step - loss: 0.2262 - accuracy: 0.9180 - val_loss: 0.2945 - val_accuracy: 0.8970\n",
            "Epoch 30/30\n",
            "1719/1719 [==============================] - 5s 3ms/step - loss: 0.2233 - accuracy: 0.9207 - val_loss: 0.2892 - val_accuracy: 0.8960\n"
          ],
          "name": "stdout"
        }
      ]
    },
    {
      "cell_type": "code",
      "metadata": {
        "id": "vLyv8YFUmCkl",
        "colab_type": "code",
        "colab": {
          "base_uri": "https://localhost:8080/",
          "height": 341
        },
        "outputId": "053443e2-6dd0-4a9d-bb14-c2b680708a1f"
      },
      "source": [
        "# plot loss function\n",
        "pd.DataFrame(history.history).plot(figsize=(8, 5)) \n",
        "plt.grid(True)\n",
        "plt.gca().set_ylim(0, 1) # set the vertical range to [0-1] plt.show()"
      ],
      "execution_count": 23,
      "outputs": [
        {
          "output_type": "execute_result",
          "data": {
            "text/plain": [
              "(0.0, 1.0)"
            ]
          },
          "metadata": {
            "tags": []
          },
          "execution_count": 23
        },
        {
          "output_type": "display_data",
          "data": {
            "image/png": "[encoded data removed]",
            "text/plain": [
              "<Figure size 576x360 with 1 Axes>"
            ]
          },
          "metadata": {
            "tags": [],
            "needs_background": "light"
          }
        }
      ]
    },
    {
      "cell_type": "code",
      "metadata": {
        "id": "YkPv4caxoIFZ",
        "colab_type": "code",
        "colab": {
          "base_uri": "https://localhost:8080/",
          "height": 51
        },
        "outputId": "f39d87d0-4900-45ff-8fbe-21f956346e50"
      },
      "source": [
        "# evaluate model \n",
        "model.evaluate(X_test, y_test)"
      ],
      "execution_count": 24,
      "outputs": [
        {
          "output_type": "stream",
          "text": [
            "313/313 [==============================] - 1s 2ms/step - loss: 55.3877 - accuracy: 0.8597\n"
          ],
          "name": "stdout"
        },
        {
          "output_type": "execute_result",
          "data": {
            "text/plain": [
              "[55.38774490356445, 0.8597000241279602]"
            ]
          },
          "metadata": {
            "tags": []
          },
          "execution_count": 24
        }
      ]
    },
    {
      "cell_type": "code",
      "metadata": {
        "id": "MsQ9XnB3pW4p",
        "colab_type": "code",
        "colab": {
          "base_uri": "https://localhost:8080/",
          "height": 68
        },
        "outputId": "b35cf2ca-4417-49f6-a5b0-0a91bece1171"
      },
      "source": [
        "# model predict \n",
        "X_new = X_test[:3] # get first 3 items of x_test\n",
        "y_proba = model.predict(X_new)\n",
        "y_proba.round(2)"
      ],
      "execution_count": 25,
      "outputs": [
        {
          "output_type": "execute_result",
          "data": {
            "text/plain": [
              "array([[0., 0., 0., 0., 0., 0., 0., 0., 0., 1.],\n",
              "       [0., 0., 1., 0., 0., 0., 0., 0., 0., 0.],\n",
              "       [0., 1., 0., 0., 0., 0., 0., 0., 0., 0.]], dtype=float32)"
            ]
          },
          "metadata": {
            "tags": []
          },
          "execution_count": 25
        }
      ]
    },
    {
      "cell_type": "code",
      "metadata": {
        "id": "HGLQwxcmqPAm",
        "colab_type": "code",
        "colab": {
          "base_uri": "https://localhost:8080/",
          "height": 34
        },
        "outputId": "005d9361-4cc4-4224-e977-991378c399f9"
      },
      "source": [
        "# transform into class names \n",
        "y_pred = model.predict_classes(X_new)\n",
        "y_pred\n",
        "np.array(class_names)[y_pred]"
      ],
      "execution_count": 28,
      "outputs": [
        {
          "output_type": "execute_result",
          "data": {
            "text/plain": [
              "array(['Ankle boot', 'Pullover', 'Trouser'], dtype='<U11')"
            ]
          },
          "metadata": {
            "tags": []
          },
          "execution_count": 28
        }
      ]
    },
    {
      "cell_type": "markdown",
      "metadata": {
        "id": "Nh2WdpJErRIq",
        "colab_type": "text"
      },
      "source": [
        "###**Building** **a** **Regression** **MLP** **Using** **the** **Sequential** **API**"
      ]
    },
    {
      "cell_type": "code",
      "metadata": {
        "id": "qr_MuFV4qcef",
        "colab_type": "code",
        "colab": {}
      },
      "source": [
        "from sklearn.datasets import fetch_california_housing \n",
        "from sklearn.model_selection import train_test_split \n",
        "from sklearn.preprocessing import StandardScaler"
      ],
      "execution_count": 29,
      "outputs": []
    },
    {
      "cell_type": "code",
      "metadata": {
        "id": "9jcLGPSerdAZ",
        "colab_type": "code",
        "colab": {
          "base_uri": "https://localhost:8080/",
          "height": 34
        },
        "outputId": "0c223b6c-b759-4e5b-ac2a-bff939a5cf57"
      },
      "source": [
        "# split data into train, test and validation sets \n",
        "housing = fetch_california_housing()\n",
        "X_train_full, X_test, y_train_full, y_test = train_test_split( housing.data, housing.target)\n",
        "X_train, X_valid, y_train, y_valid = train_test_split( X_train_full, y_train_full)"
      ],
      "execution_count": 30,
      "outputs": [
        {
          "output_type": "stream",
          "text": [
            "Downloading Cal. housing from https://ndownloader.figshare.com/files/5976036 to /root/scikit_learn_data\n"
          ],
          "name": "stderr"
        }
      ]
    },
    {
      "cell_type": "code",
      "metadata": {
        "id": "bmPfV-MesFBr",
        "colab_type": "code",
        "colab": {}
      },
      "source": [
        "# normalise data \n",
        "scaler = StandardScaler()\n",
        "X_train = scaler.fit_transform(X_train) \n",
        "X_valid = scaler.transform(X_valid) \n",
        "X_test = scaler.transform(X_test)"
      ],
      "execution_count": 31,
      "outputs": []
    },
    {
      "cell_type": "code",
      "metadata": {
        "id": "kRNunWp8sRsL",
        "colab_type": "code",
        "colab": {
          "base_uri": "https://localhost:8080/",
          "height": 714
        },
        "outputId": "271562bb-32d1-44e5-d7fd-f3d63af9e5b9"
      },
      "source": [
        "# build model\n",
        "model = keras.models.Sequential([\n",
        "keras.layers.Dense(30, activation=\"relu\", input_shape=X_train.shape[1:]), keras.layers.Dense(1)\n",
        "])\n",
        "\n",
        "#fit model \n",
        "model.compile(loss=\"mean_squared_error\", optimizer=\"sgd\") \n",
        "history = model.fit(X_train, y_train, epochs=20,\n",
        "validation_data=(X_valid, y_valid)) \n",
        "\n",
        "# evaluate model\n",
        "mse_test = model.evaluate(X_test, y_test)\n",
        "X_new = X_test[:3] # pretend these are new instances y_pred = model.predict(X_new)"
      ],
      "execution_count": 34,
      "outputs": [
        {
          "output_type": "stream",
          "text": [
            "Epoch 1/20\n",
            "363/363 [==============================] - 1s 1ms/step - loss: 0.8809 - val_loss: 1.8086\n",
            "Epoch 2/20\n",
            "363/363 [==============================] - 1s 1ms/step - loss: 0.9797 - val_loss: 0.5605\n",
            "Epoch 3/20\n",
            "363/363 [==============================] - 0s 1ms/step - loss: 0.4674 - val_loss: 0.4527\n",
            "Epoch 4/20\n",
            "363/363 [==============================] - 1s 1ms/step - loss: 0.4264 - val_loss: 0.4305\n",
            "Epoch 5/20\n",
            "363/363 [==============================] - 1s 1ms/step - loss: 0.4046 - val_loss: 0.4104\n",
            "Epoch 6/20\n",
            "363/363 [==============================] - 1s 1ms/step - loss: 0.3931 - val_loss: 0.3991\n",
            "Epoch 7/20\n",
            "363/363 [==============================] - 1s 1ms/step - loss: 0.3943 - val_loss: 0.3991\n",
            "Epoch 8/20\n",
            "363/363 [==============================] - 1s 1ms/step - loss: 0.3820 - val_loss: 0.7001\n",
            "Epoch 9/20\n",
            "363/363 [==============================] - 1s 1ms/step - loss: 0.5092 - val_loss: 0.4016\n",
            "Epoch 10/20\n",
            "363/363 [==============================] - 1s 1ms/step - loss: 0.3863 - val_loss: 0.4077\n",
            "Epoch 11/20\n",
            "363/363 [==============================] - 0s 1ms/step - loss: 0.3796 - val_loss: 0.3891\n",
            "Epoch 12/20\n",
            "363/363 [==============================] - 1s 1ms/step - loss: 0.3780 - val_loss: 0.3959\n",
            "Epoch 13/20\n",
            "363/363 [==============================] - 1s 1ms/step - loss: 0.3739 - val_loss: 0.3854\n",
            "Epoch 14/20\n",
            "363/363 [==============================] - 1s 1ms/step - loss: 0.3777 - val_loss: 0.3917\n",
            "Epoch 15/20\n",
            "363/363 [==============================] - 1s 1ms/step - loss: 0.3743 - val_loss: 0.3823\n",
            "Epoch 16/20\n",
            "363/363 [==============================] - 1s 1ms/step - loss: 0.3646 - val_loss: 0.4012\n",
            "Epoch 17/20\n",
            "363/363 [==============================] - 1s 1ms/step - loss: 0.3707 - val_loss: 0.3836\n",
            "Epoch 18/20\n",
            "363/363 [==============================] - 1s 1ms/step - loss: 0.3693 - val_loss: 0.3923\n",
            "Epoch 19/20\n",
            "363/363 [==============================] - 0s 1ms/step - loss: 0.3634 - val_loss: 0.3778\n",
            "Epoch 20/20\n",
            "363/363 [==============================] - 1s 1ms/step - loss: 0.3786 - val_loss: 0.3750\n",
            "162/162 [==============================] - 0s 920us/step - loss: 0.3372\n"
          ],
          "name": "stdout"
        }
      ]
    },
    {
      "cell_type": "code",
      "metadata": {
        "id": "e6dL6D8ks3wh",
        "colab_type": "code",
        "colab": {}
      },
      "source": [
        ""
      ],
      "execution_count": null,
      "outputs": []
    }
  ]
}